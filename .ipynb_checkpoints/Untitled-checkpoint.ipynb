{
 "cells": [
  {
   "cell_type": "code",
   "execution_count": 221,
   "id": "dda07979",
   "metadata": {},
   "outputs": [
    {
     "name": "stdout",
     "output_type": "stream",
     "text": [
      "<class 'set'>\n"
     ]
    },
    {
     "name": "stderr",
     "output_type": "stream",
     "text": [
      "100%|████████████████████████████████████████████████████████████████████████████████████████████████████████████████████████████| 2312/2312 [00:00<00:00, 85188.22it/s]"
     ]
    },
    {
     "name": "stdout",
     "output_type": "stream",
     "text": [
      "1193\n",
      "{'who': 13839, 'plays': 470, 'luke': 2, 'on': 13894, 'star': 10788, 'wars': 10789, 'new': 12458, 'hope': 10711, 'show': 14298, 'credits': 532, 'for': 14481, 'the': 14506, 'godfather': 13836, 'was': 14510, 'main': 12950, 'actor': 12540, 'in': 14407, 'exorcist': 3464, 'find': 14309, 'female': 270, 'actress': 993, 'from': 12049, 'movie': 14456, \"she's\": 28, 'man': 14182, 'played': 10521, 'dory': 33, 'finding': 9262, 'nemo': 9263, 'lead': 1110, 'resident': 14253, 'evil': 14254, 'guido': 47, 'life': 14099, 'is': 14334, 'beautiful': 14101, 'co-star': 55, 'shoot': 637, 'to': 14223, 'kill': 3729, 'guy': 1111, 'charlie': 13041, \"charlie's\": 67, 'angels': 68, 'cast': 11416, 'and': 14002, 'crew': 1097, 'of': 14454, 'campaign': 14287, 'starred': 11529, 'were': 14441, 'taxi': 601, 'driver': 108, 'twilight': 14349, 'stars': 7157, 'vulgaria': 12062, 'what': 14505, 'are': 13187, 'names': 9099, 'actors': 12528, 'lost': 14095, 'can': 14502, 'i': 14503, 'see': 14504, 'set': 131, 'list': 14158, \"what's\": 14265, 'roberto': 183, \"benigni's\": 184, 'costars': 185, 'am': 12269, 'looking': 12270, 'that': 13558, 'pretty': 14410, 'women': 5245, 'troy': 203, 'robin': 206, 'batman': 3806, 'forever': 209, 'male': 1034, 'dirty': 14050, 'harry': 10565, 'me': 14451, 'ranam': 223, 'rocky': 4139, 'amazing': 13720, 'spider': 2364, 'captain': 448, 'america': 13809, 'members': 1098, 'hobbist': 260, 'varsham': 3721, 'which': 13702, 'hitch': 13218, 'july': 12444, 'roll': 303, 'top': 13567, 'gun': 13568, 'sirisiri': 315, 'muvva': 316, '2': 14297, 'chewbakka': 322, 'stared': 324, 'love': 11690, 'lucy': 328, 'apollo': 9294, 'thirteen': 12329, 'you': 14449, 'tell': 14390, 'more': 13438, 'about': 14392, 'castmembers': 354, 'complete': 6519, 'information': 13531, 'appolo': 372, 'info': 13449, 'give': 14450, 'facts': 6964, 'need': 13935, 'know': 14224, 'detail': 11676, 'want': 13521, 'dancing': 14051, \"gilda's\": 452, \"can't\": 1103, 'remember': 1061, 'avengers': 14447, 'avergers': 468, 'voices': 504, 'character': 1733, 'men': 4061, 'black': 14205, '3': 14484, 'search': 14325, 'titanic': 14475, 'oranges': 606, 'born': 1144, 'free': 629, 'iron': 13252, 'shows': 634, 'all': 12882, 'dark': 14492, 'knight': 14486, 'rising': 665, 'nick': 668, 'fury': 669, 'swan': 14206, 'acted': 12317, 'four': 10777, 'esme': 721, 'parent': 1081, 'trap': 1082, \"hitch's\": 749, 'appeared': 9779, 'movies': 13505, 'voice': 806, 'homer': 809, 'simpson': 810, 'two': 816, 'play': 7676, 'game': 820, 'gone': 13770, 'with': 13771, 'wind': 13773, 'this': 13895, 'pitchperfect': 844, 'house': 14073, 'at': 14074, 'end': 14076, 'street': 14079, 'acts': 917, 'forager': 11945, 'now': 12973, 'modern': 939, 'family': 11745, 'go': 12407, 'hunger': 4166, 'games': 4167, 'request': 1593, 'retribution': 3096, 'tin': 987, 'wizard': 990, 'oz': 992, 'hum': 8241, 'tum': 8242, 'barfi': 3145, 'woman': 14411, 'savages': 1016, 'name': 13361, 'jack': 10944, 'role': 1752, 'cannot': 1060, 'help': 2962, 'figure': 1104, 'out': 14310, 'ladies': 1121, 'how': 14488, 'old': 14198, 'steven': 13003, 'spielberg': 13004, 'when': 13666, 'tom': 13017, \"cruise's\": 8879, 'birthday': 1149, 'cruise': 12711, 'will': 14174, \"ferrell's\": 12839, 'kristen': 12917, 'stewart': 12918, 'much': 14489, 'did': 14490, 'it': 14439, 'cost': 6606, 'produce': 13388, 'night': 14493, 'budget': 1711, \"godfather's\": 1181, 'blind': 13800, 'side': 13801, 'look': 14317, 'up': 14318, 'freedom': 14055, 'writers': 14056, 'would': 14221, 'like': 14222, 'made': 14465, 'hollywood': 1241, 'pay': 1242, 'production': 13634, 'costs': 1256, 'wrong': 1265, 'turn': 1266, 'step': 14116, 'make': 14463, 'total': 14474, \"titanic's\": 1302, 'courageous': 1309, 'facing': 1315, 'giants': 1317, 'heroine': 13343, 'buget': 1334, \"heroine's\": 1329, 'jurassic': 14155, 'park': 14156, 'james': 13407, 'cameron': 13408, 'have': 14276, 'spend': 1401, 'avatar': 14399, 'must': 14263, 'a': 14180, 'bundle': 1370, 'spending': 1379, 'get': 13429, 'studio': 13822, 'money': 14402, 'budgeted': 1409, \"avatar's\": 13359, 'spent': 1503, 'begins': 1529, 'film': 14275, 'take': 14438, 'citizen': 1555, 'kane': 1556, 'cujo': 1562, \"wind's\": 1579, 'please': 13371, 'hulk': 13638, 'my': 14189, 'big': 3476, 'fat': 1625, 'greek': 8700, 'wedding': 1627, 'school': 1634, 'bourne': 1638, \"identity's\": 1639, 'deer': 1667, 'hunter': 1668, 'provide': 13155, 'producing': 1655, 'hobbit': 2563, 'lion': 14507, \"king's\": 14508, 'passion': 13657, 'christ': 13660, \"gun's\": 1710, 'does': 14272, 'ellen': 1714, 'degeneres': 1715, 'hanks': 13018, 'king': 13697, 'characters': 4608, 'smith': 12505, 'sarah': 6553, 'polley': 6554, 'kevin': 7948, 'directed': 12354, 'music': 10308, 'composer': 1768, 'musical': 8230, 'score': 1776, 'many': 1985, 'films': 12389, 'ed': 12378, 'harris': 12379, 'do': 12902, 'released': 12092, 'nine': 1795, 'twenty': 1796, 'eight': 1797, 'twelve': 1798, 'filmed': 8401, 'asia': 1805, 'by': 14466, 'barbra': 1811, 'streisand': 1812, 'been': 11522, 'shot': 8316, 'czech': 1818, 'republic': 1819, 'has': 12351, 'albert': 12687, 'ruddy': 12688, 'produced': 13834, 'lionsgate': 13451, 'done': 12256, 'richard': 13083, 'lester': 13084, 'direct': 12135, 'taye': 11245, 'diggs': 11246, 'ray': 12626, 'stark': 12627, 'producers': 13838, 'charles': 12656, 'vidor': 12661, 'wonder': 13606, 'alfred': 13063, 'hitchcock': 13067, 'he': 9925, 'robert': 13055, 'wise': 13056, 'scorsese': 5265, 'angelina': 13076, 'jolie': 13077, 'victor': 10617, 'fleming': 10618, 'woody': 12397, 'allen': 9607, 'darla': 12580, 'anderson': 12581, 'diane': 1974, 'keaton': 1975, 'united': 7823, 'states': 5680, 'where': 12561, 'footnote': 1995, 'country': 10146, 'flowers': 2001, 'war': 8282, 'come': 9613, 'le': 2008, 'havre': 4646, 'kati': 2073, 'patang': 2074, 'comes': 2169, 'thoda': 2114, 'pyaar': 2113, 'magic': 2115, 'belongs': 2116, 'separation': 4754, 'godzilla': 4558, 'weekend': 2129, 'cell': 2153, '21': 2154, 'beauty': 2497, 'trainspotting': 2183, 'elizabeth': 13321, \"shindler's\": 4601, 'origin': 2299, 'casa': 2215, 'blanca': 2216, 'spanglish': 2234, 'foreign': 9440, 'kinky': 2266, 'boots': 2267, 'outside': 5861, 'law': 2275, 'mirror': 13794, 'les': 2292, 'miserable': 2293, 'start': 2519, 'directing': 2520, 'release': 4959, 'date': 4960, 'little': 2589, 'mermaid': 2360, '24': 2394, 'be': 13989, 'available': 7707, 'year': 14191, 'decade': 2462, 'month': 2809, 'day': 2913, 'may': 2479, 'vow': 2493, 'making': 12142, 'birds': 2511, 'came': 6999, 'great': 13627, 'gatsby': 2545, 'jaws': 4189, 'relased': 2564, 'grease': 14030, 'open': 12785, 'title': 10846, 'karate': 2610, 'kid': 2611, 'overboard': 2636, 'moon': 2641, 'over': 2642, 'parador': 2643, 'yr': 2659, 'while': 4493, 'sleeping': 4496, 'welcome': 2681, 'dollhouse': 2684, 'toy': 14482, 'story': 14483, 'relase': 2695, 'possessed': 2721, 'realese': 2722, \"evil's\": 2735, 'debut': 2748, 'theaters': 2975, 'first': 12127, 'theatres': 3231, 'scooby': 2777, 'frankenstein': 2824, 'relesed': 2831, 'happiness': 2867, 'paranormal': 2872, 'activity': 2873, 'realease': 2877, 'theatre': 2940, 'long': 12633, 'compliance': 2968, 'sinister': 2973, 'hitting': 2974, 'shown': 2988, 'lawless': 4236, 'snow': 3000, 'white': 3001, 'huntsman': 3004, 'spiderman': 13721, 'next': 3013, 'dredd': 14332, 'watch': 14175, 'paranorman': 3069, 'expendables': 14296, 'evil:': 3095, 'calendar': 4328, 'looper': 14171, 'herione': 3168, 'showing': 12347, 'yet': 3214, 'coming': 13807, 'listed': 13411, 'directors': 12560, 'director': 12893, 'details': 12970, \"who's\": 3299, 'pi': 3303, \"inception's\": 3313, 'person': 13988, 'hard': 14340, \"day's\": 3375, 'days': 13517, 'away': 3385, 'forest': 3398, 'gump': 3399, 'sleepless': 4099, 'seattle': 4101, 'opening': 3411, 'display': 13425, 'social': 3470, 'network': 4341, 'ghost': 13311, 'busters': 13312, 'floats': 3498, 'whom': 3838, 'called': 3829, 'steel': 13305, 'magnolias': 13306, 'silence': 3563, 'lambs': 3566, 'incredibles': 3571, 'gilda': 8219, 'goodfellas': 3602, 'field': 13241, 'dreams': 13243, 'possible': 6659, 'anne': 10932, 'green': 14121, 'gables': 3708, 'platoon': 4109, 'grizzly': 3724, 'mockingbird': 3731, 'e': 3739, 't': 3740, 'et': 14358, \"park's\": 3762, 'perfect': 11699, 'storm': 3813, 'pride': 3820, 'prejudice': 3822, 'thing': 3828, 'else': 3840, 'directs': 3841, 'zombie': 10459, 'cabin': 14247, 'woods': 14250, 'interested': 5216, 'soul': 3902, 'surfer': 3903, 'sandlot': 3907, 'comedy': 11919, 'halloween': 3915, 'mechanic': 14306, 'mask': 3983, 'sound': 10306, 'only': 11866, '1st': 4029, 'lord': 13974, 'rings': 13976, 'return': 4052, 'chips': 4083, 'master': 4118, \"director's\": 13057, 'type': 13844, 'types': 4149, 'kind': 4440, 'genre': 4498, 'transformers': 4170, 'rambo': 4184, '1000': 4207, 'words': 4208, 'parenthood': 7379, 'classified': 4254, 'category': 4455, 'describe': 4268, 'classification': 4277, 'girls': 4329, 'patriot': 4337, 'rebel': 4350, 'falls': 4364, 'superman': 14007, 'girl': 4410, \"movie's\": 4397, 'd': 13594, 'annamayya': 4452, 'friday': 4457, '13th': 4459, 'tommyknockers': 4465, 'hangover': 13586, 'catergory': 4473, 'ted': 4487, 'considered': 4488, 'language': 11452, 'used': 4505, 'different': 4522, 'languages': 4523, 'spoken': 10186, 'anna': 6350, 'karinia': 4555, 'hamlet': 4562, 'hero': 4594, 'bullhead': 4597, 'speak': 4677, 'chaser': 4637, \"ondskan's\": 4640, 'la': 4645, 'belle': 4654, 'view': 12417, 'professional': 4682, 'they': 4676, 'indochine': 4688, 'revanche': 4693, 'aguirre': 4697, 'wrath': 4698, 'god': 12216, 'ju': 4741, 'original': 9225, 'elling': 4749, 's': 13795, 'moscow': 4760, 'not': 6460, 'believe': 4763, 'tears': 4765, 'aankhen': 4783, 'some': 12090, 'martin': 6971, 'titles': 4877, 'george': 12122, 'lucas': 11569, 'romantic': 6488, 'indian': 6513, 'japanese': 7116, 'having': 4910, 'pg': 12328, 'rating': 14337, 'zombies': 10470, 'them': 11491, 'william': 6192, 'packer': 6193, 'stephen': 12985, 'last': 12399, 'ratings': 14167, 'other': 12349, 'westerns': 4974, 'bacon': 6221, 'page': 12996, 'particulars': 5035, 'ferrell': 12847, 'any': 12363, 'ferell': 5161, 'videos': 10143, 'russian': 5233, 'poland': 5204, 'polish': 5228, 'watching': 5218, 'funny': 11010, 'barry': 5248, 'sonnenfeld': 5249, 'scorcese': 5272, 'meg': 5275, 'ryan': 5276, 'gross': 14443, 'earnings': 14427, 'jackie': 5288, 'chan': 5289, 'plots': 5295, 'hotel': 13961, 'rwanda': 13553, 'tim': 5299, 'burton': 5300, 'bings': 5302, 'shortcut': 5316, 'whats': 13928, 'andrew': 12675, 'stanton': 12676, 'lee': 13088, 'unkrich': 5378, 'brooks': 12255, 'drew': 5397, 'barrymore': 5398, 'clint': 12639, 'eastwood': 12640, 'also': 9926, 'sergio': 13023, 'leone': 13024, \"leone's\": 5430, 'tony': 5445, 'scott': 10486, 'brazil': 5451, 'horror': 12388, 'harrison': 5466, 'ford': 10612, 'clive': 5486, 'owen': 5487, 'ms.': 13563, 'congeniality': 13564, 'spike': 9574, 'cecil': 5505, 'b': 5506, 'demille': 5507, 'spanish': 10268, 'there': 11221, 'rated': 14316, 'g': 12463, \"don't\": 5539, 'drama': 7414, \"i'd\": 9432, 'something': 6782, 'english': 8866, 'us': 14169, 'usa': 5692, 'if': 5672, 'thrillers': 5701, 'comedies': 11926, 'scary': 10463, 'mood': 5737, 'producer': 13826, 'bruce': 12475, 'willis': 12476, 'canada': 5834, 'canadian': 5854, 'germany': 5883, 'italy': 12451, 'italian': 5952, 'send': 11432, 'speaking': 7109, 'spain': 5990, 'bring': 12731, \"I'd\": 6024, 'listing': 10553, 'romance': 8846, 'locate': 11563, 'french': 8446, 'involve': 6330, '9-11': 6226, 'bill': 12568, 'paxton': 12569, 'suspenseful': 6237, 'based': 11588, 'time': 6336, 'travel': 6337, 'themes': 6273, 'whose': 6290, 'topic': 11100, 'involves': 6292, 'related': 11615, 'discuss': 6335, 'quentin': 6344, 'tarrantino': 6339, 'terrantino': 6345, 'paquin': 6351, 'england': 6379, 'chris': 9666, 'columbus': 6385, 'mandarin': 6410, 'originally': 6414, 'tamil': 6429, 'latest': 12358, 'hindi': 6455, 'another': 6469, 'india': 6503, 'brian': 8010, 'de': 6516, 'palma': 6517, 'searchlight': 6545, 'bank': 6549, 'robberies': 6550, 'r': 12069, 'dramas': 8313, 'europe': 6579, 'laurie': 6583, 'macdonald': 6584, 'dreamworks': 11229, \"i'm\": 11933, 'costner': 6614, 'short': 10533, 'cuts': 6623, 'every': 6658, 'infomation': 6671, 'reviews': 11417, 'etc': 11419, 'redford': 11597, 'bette': 6795, 'midler': 6796, 'diaz': 6801, 'jennifer': 6807, 'aniston': 6808, 'russell': 6809, 'crowe': 6810, 'synopsis': 12441, 'run': 12842, 'beatiful': 6882, 'footloose': 6883, 'jason': 11937, 'statham': 6886, \"statham's\": 6889, 'zealand': 6895, 'bala': 6902, 'krishna': 6903, 'korean': 9492, 'portugese': 6927, 'current': 12452, 'options': 6931, 'today': 6933, 'patrick': 10529, 'swayze': 10530, 'results': 9723, 'lawrence': 6972, 'japan': 7026, 'sort': 9912, 'japaneese': 7104, 'people': 7108, 'british': 7814, 'miramax': 13842, 'sandra': 12264, 'bullock': 7144, 'vampires': 7151, 'experience': 7165, 'as': 13412, 'tyler': 7199, 'perry': 7200, 'selena': 7204, 'gomez': 7205, 'mel': 8840, 'gibson': 8841, 'paramount': 13543, 'pictures': 9446, 'chess': 7276, 'regarding': 7272, 'hobby': 7274, 'best': 7421, 'world': 7282, 'dogs': 7289, 'nc': 7303, '17': 7295, 'nc-17': 7299, 'seventeen': 7304, 'turkey': 7316, 'michael': 7358, 'bay': 7359, 'stuff': 8096, 'jerry': 7391, 'bruckheimer': 7392, 'chinese': 11461, 'china': 7417, 'baseball': 7422, 'ireland': 7428, 'john': 9085, 'travolta': 7434, 'columbia': 7437, 'company': 13703, '20': 7450, 'th': 7451, 'century': 12368, 'fox': 12369, 'twentieth': 12367, 'elvis': 7489, 'pg-13': 12343, 'right': 7611, 'g-rated': 7625, '-rated': 9996, 'kids': 13854, 'select': 7912, 'option': 7914, 'currently': 12346, 'playing': 12324, 'anymore': 7750, 'several': 7768, 'appropriate': 14207, 'young': 7777, 'children': 7778, 'stories': 7798, 'mgm': 13712, 'uk': 7817, 'kingdom': 7824, 'norway': 10147, 'ron': 12223, 'howard': 12224, 'sean': 13029, 'penn': 7876, 'vietnam': 7880, 'productions': 11471, 'spilberg': 7928, 'disney': 8457, 'walt': 7979, 'glazer': 8011, 'filmography': 8025, 'speilberg': 8047, 'musicals': 8237, 'eddie': 12187, 'murphy': 12188, 'noah': 8252, 'baumbach': 8253, 'chick': 8255, 'flicks': 8256, 'themed': 8268, 'concerning': 8272, 'television': 8291, 'todd': 8296, 'solondz': 8297, 'hugh': 8302, 'jackman': 8303, 'or': 8315, 'france': 8403, 'mystery': 8451, 'pixar': 13820, 'starring': 11499, 'singer': 8491, 'mario': 8492, 'diving': 8517, 'plot': 8522, 'mosfilm': 8536, 'deal': 8539, 'immigrants': 8541, 'cher': 8550, 'eva': 8552, 'mendes': 8553, 'father': 8557, 'morgan': 10600, 'freeman': 10601, 'produces': 13326, 'oliver': 8668, 'stone': 8669, 'singleton': 8687, 'alan': 8713, 'rickman': 8714, 'sheen': 13042, 'rudy': 8769, 'yash': 11581, 'chopra': 11582, 'camp': 8779, 'brad': 11931, 'pitt': 11932, 'halle': 8815, 'berry': 8816, 'home': 8847, 'content': 8875, 'guys': 8885, 'deniro': 8892, 'warner': 13818, 'bros.': 9027, 'bros': 9020, 'brothers': 13819, 'wb': 9053, 'jj': 9802, 'abrams': 9803, 'procuced': 9059, 'recent': 12387, 'cusack': 9086, 'wes': 9090, 'clooney': 9119, 'jon': 9128, 'landau': 9129, 'general': 9174, \"nemo's\": 9238, 'official': 9243, 'site': 9244, 'frank': 9296, 'capra': 9297, 'castle': 9303, 'rock': 9304, 'entertainment': 9305, 'jake': 9309, 'gyllenhaal': 9310, 'kristenn': 9355, 'michelle': 13034, 'phifer': 9399, 'danish': 9403, 'chiranjeevi': 9411, 'die': 14339, 'universal': 9455, 'historical': 9457, '7': 9469, 'arts': 9470, 'since': 9506, '1990': 9507, 'denzel': 9536, 'washington': 9537, 'kareena': 9546, \"kareena's\": 9551, 'prison': 9554, 'break': 9555, 'gabrielle': 9611, 'union': 9612, 'anything': 12120, 'nolan': 9667, 'german': 10501, 'back': 9725, 'future': 9728, 'christian': 9794, 'bale': 9795, 'during': 9741, 'his': 9742, 'career': 9743, 'chrisian': 9765, 'upcoming': 9791, \"pitt's\": 9865, 'starting': 9940, 'newest': 9942, 'oldest': 9944, \"jolie's\": 9946, 'scotland': 9951, 'an': 11982, 'rate': 9986, 'adult': 9990, 'enterainment': 9991, '-': 10672, 'compile': 10071, 'swedish': 12394, 'mexican': 10275, 'south': 10282, 'africa': 10283, 'sci': 10286, 'fi': 10287, 'scifi': 10298, 'fantasy': 10292, 'matt': 10302, 'damon': 10303, 'appear': 10304, 'terry': 12855, 'tonight': 10318, 'animated': 10323, 'apocolypse': 10340, 'favorites': 10398, 'niel': 10468, 'abramson': 10469, 'ridley': 10485, 'action': 10516, 'dutch': 10551, 'childrens': 10556, 'weinstein': 10566, 'bengali': 10606, 'meryl': 10607, 'streep': 10608, 'frances': 10611, 'copolla': 10613, 'russia': 10633, 'wars-a': 10648, 'wars:episode': 10700, 'detailed': 11376, '-a': 10702, 'episode': 10731, 'iv': 10790, 'full': 10785, 'darth': 10791, 'vader': 10792, 'han': 10793, 'solo': 10794, 'sidney': 10800, 'lumit': 10801, 'sally': 13021, 'exhibit': 12858, 'moritz': 10850, 'bleibtreu': 10851, 'data': 10886, 'check': 10910, \"hathaway's\": 10938, 'basketball': 11015, 'katie': 11083, 'holmes': 11084, 'horses': 11096, 'johnny': 11104, 'depp': 11105, 'karan': 11128, 'johar': 11129, \"johar's\": 11119, 'their': 11139, 'transylvania': 14010, 'gambling': 11181, 'ice': 11227, 'skating': 11225, 'generate': 14494, 'britain': 11244, 'overview': 11400, 'dispaly': 11388, 'julian': 11469, 'fellows': 11470, 'lucus': 11542, 'dax': 11572, 'shepard': 11573, \"chopra's\": 11576, 'trouble': 11583, 'curve': 11586, 'immigration': 11601, 'dawn': 11602, 'dead': 11605, 'nature': 11693, 'pitch': 11698, 'reliance': 11706, 'friendly': 11711, 'good': 14181, 'moives': 11734, 'hungarian': 11925, 'hungary': 11922, 'cortlund': 11938, 'five': 12041, 'recently': 12064, 'r-rated': 12076, 'releases': 12459, 'cukor': 12123, 'rob': 12133, 'reiner': 12134, 'highest': 12141, 'high': 12146, 'grossing': 12159, 'most': 12153, 'three': 12170, \"howard's\": 12219, 'lately': 12319, \"bullock's\": 12265, 'least': 12311, 'kannada': 12361, 'suggestions': 12372, \"allen's\": 12398, 'homepage': 12410, 'summary': 12437, 'companies': 12472, 'emma': 12495, 'watson': 12496, 'bio': 13062, 'biography': 12987, 'mcgovern': 12575, 'shelly': 12632, 'childs': 12660, 'scorscese': 12667, 'olsen': 12679, 'twins': 12680, 'farrell': 12715, 'informaion': 12730, 'goto': 13817, 'history': 13538, 'tidbits': 12837, 'returned': 12852, 'georges': 12856, 'background': 12857, 'relevant': 12883, 'learn': 13039, 'julia': 12921, 'roberts': 12922, \"spielberg's\": 12949, 'pull': 12940, 'profile': 12995, 'stats': 12964, 'connery': 13030, 'pfiefer': 13035, 'profiles:': 13058, 'clark': 13070, 'gable': 13071, 'vivian': 13087, 'sparkle': 13701, 'ants': 13959, 'inception': 13675, 'responsible': 13224, 'devil': 13590, 'wears': 13591, 'prada': 13592, 'secretariat': 13235, 'think': 13282, 'cars': 13849, 'madagascar': 13327, 'browse': 13422, 'spaceballs': 13468, 'slumdog': 13508, 'millionaire': 13509, 'thor': 13513, 'thunder': 13519, 'studios': 13713, 'behind': 13539, 'terminator': 13706, 'debaters': 13628, 'possesion': 13647, 'moby': 13652, 'dick': 13653, 'expect': 13665, \"you're\": 13667, 'expecting': 13668, 'casino': 13709, 'royale': 13710, 'work': 13840, 'audience': 14173, 'mpaa': 13872, 'reccommended': 13879, 'parental': 13892, 'rises': 13911, 'receive': 13912, 'transylavania': 13962, 'adults': 13965, 'age': 14203, 'marley': 14001, 'should': 13986, 'clueless': 14037, 'hold': 14080, '16': 14087, 'land': 14092, 'ok': 14102, 'six': 14105, 'hornet': 14122, 'avenger': 14147, \"africa's\": 14184, '13': 14190, 'american': 14195, 'pie': 14196, 'kindly': 14232, 'romeo': 14262, 'satyricon': 14269, 'restrictions': 14271, 'viewers': 14278, 'revenue': 14509, 'profit': 14347, 'worldwide': 14355, \"et's\": 14362, 'revenues': 14476, 'generated': 14395, 'ticket': 14417, 'sales': 14418, 'receipts': 14444, 'profits': 14464, '<unk>': 1193}\n"
     ]
    },
    {
     "name": "stderr",
     "output_type": "stream",
     "text": [
      "\n"
     ]
    }
   ],
   "source": [
    "import torch\n",
    "import pandas as pd \n",
    "from tqdm import tqdm\n",
    "import spacy\n",
    "from spacy.tokenizer import Tokenizer\n",
    "from spacy.lang.en import English\n",
    "stopwords = English.Defaults.stop_words\n",
    "print(type(stopwords))\n",
    "# print(stopwords)\n",
    "# item = 'lavda'\n",
    "# print(item) if item in stopwords else print(\"ERROR!!\")\n",
    "# print(len(stopwords))\n",
    "nlp = English()\n",
    "tokenizer = Tokenizer(nlp.vocab)\n",
    "    \n",
    "data = pd.read_csv('Data/hw1_train-1.csv', index_col=0)\n",
    "data.columns = ['text', 'labels']\n",
    "data['labels'] = data['labels'].str.replace('none', '')\n",
    "\n",
    "# Creating a vocabulary\n",
    "vocab_size = 2_000\n",
    "all_tokens = []\n",
    "for text in tqdm(data['text']):\n",
    "    tokens = tokenizer(text)\n",
    "    all_tokens.extend([i.text for i in tokens])\n",
    "# print(all_tokens)    \n",
    "\n",
    "# Decoder\n",
    "decoder = dict(enumerate(all_tokens))\n",
    "# print(decoder)\n",
    "\n",
    "# Encoder\n",
    "encoder = {token: idx for idx, token in decoder.items()}\n",
    "print(len(encoder))\n",
    "encoder['<unk>'] = len(encoder)\n",
    "vocab = encoder\n",
    "print(vocab)  \n",
    "default = vocab['<unk>']\n",
    "\n",
    "def tokenize(text):\n",
    "    return [i.text for i in tokenizer(text)]\n",
    "   \n",
    "def stopword_removal(text):\n",
    "    corpus_row = []\n",
    "    for item in tokenize(text):\n",
    "        print(item)\n",
    "        if item not in stopwords:\n",
    "            corpus_row.append(item)\n",
    "    corpus_row = ' '.join(corpus_row)          \n",
    "    return corpus_row\n",
    "    \n",
    "# print(data.loc[100])     \n",
    "# print(data.loc[100])\n",
    "# print(tokenize(data['text'].loc[100]))"
   ]
  },
  {
   "cell_type": "code",
   "execution_count": 222,
   "id": "558771af",
   "metadata": {},
   "outputs": [],
   "source": [
    "def preprocess_text(data: str):\n",
    "    # Convert text to lowercase\n",
    "    data = data.lower()\n",
    "    # Removing all punctuation\n",
    "    data = re.sub(r'[^\\w\\s]', '', data)\n",
    "    # Removing links\n",
    "    data = re.sub(r'http\\S+', '', data)\n",
    "    # Removing special characters and numbers\n",
    "    data = re.sub(r'[^A-Za-z0-9]+', ' ', data)\n",
    "    # Removing single characters\n",
    "    data = re.sub(r's+[a-zA-Z]s+', '', data)\n",
    "    # Removing multi-spaces by a single space\n",
    "    datav = re.sub(r'\\s+', '', data)\n",
    "    # Removing Stopwords\n",
    "    # stopword_removal(data)\n",
    "    return data"
   ]
  },
  {
   "cell_type": "code",
   "execution_count": 223,
   "id": "514cf7d7",
   "metadata": {},
   "outputs": [
    {
     "name": "stdout",
     "output_type": "stream",
     "text": [
      "find the male actor from the movie born free\n",
      "find the male actor from the movie born free\n"
     ]
    }
   ],
   "source": [
    "import re\n",
    "print(data['text'].loc[86])\n",
    "print(preprocess_text(data['text'].loc[86]))"
   ]
  },
  {
   "cell_type": "code",
   "execution_count": 224,
   "id": "b74dedf7",
   "metadata": {},
   "outputs": [
    {
     "name": "stdout",
     "output_type": "stream",
     "text": [
      "['find', 'the', 'male', 'actor', 'from', 'the', 'movie', 'born', 'free']\n",
      "find\n",
      "the\n",
      "male\n",
      "actor\n",
      "from\n",
      "the\n",
      "movie\n",
      "born\n",
      "free\n",
      "find male actor movie born free\n"
     ]
    }
   ],
   "source": [
    "print(tokenize(data['text'].loc[86]))\n",
    "print(stopword_removal(data['text'].loc[86]))"
   ]
  },
  {
   "cell_type": "code",
   "execution_count": 225,
   "id": "7bbc6d2b",
   "metadata": {},
   "outputs": [
    {
     "name": "stdout",
     "output_type": "stream",
     "text": [
      "tensor([14309, 14506,  1034, 12540, 12049, 14506, 14456,  1144,   629])\n"
     ]
    }
   ],
   "source": [
    "def encode_tokens(tokens):\n",
    "    encoded = [vocab.get(token, default) for token in tokens]\n",
    "    return torch.tensor(encoded)\n",
    "\n",
    "print(encode_tokens(tokenize(data['text'].loc[86])))"
   ]
  },
  {
   "cell_type": "code",
   "execution_count": 226,
   "id": "b4e06ec3",
   "metadata": {},
   "outputs": [
    {
     "ename": "TypeError",
     "evalue": "'float' object is not iterable",
     "output_type": "error",
     "traceback": [
      "\u001b[0;31m---------------------------------------------------------------------------\u001b[0m",
      "\u001b[0;31mTypeError\u001b[0m                                 Traceback (most recent call last)",
      "Cell \u001b[0;32mIn [226], line 3\u001b[0m\n\u001b[1;32m      1\u001b[0m \u001b[38;5;28;01mfrom\u001b[39;00m \u001b[38;5;21;01msklearn\u001b[39;00m\u001b[38;5;21;01m.\u001b[39;00m\u001b[38;5;21;01mpreprocessing\u001b[39;00m \u001b[38;5;28;01mimport\u001b[39;00m MultiLabelBinarizer\n\u001b[1;32m      2\u001b[0m mlb \u001b[38;5;241m=\u001b[39m MultiLabelBinarizer()\n\u001b[0;32m----> 3\u001b[0m mlb\u001b[38;5;241m.\u001b[39mfit_transform(data[\u001b[38;5;124m'\u001b[39m\u001b[38;5;124mlabels\u001b[39m\u001b[38;5;124m'\u001b[39m])\n",
      "File \u001b[0;32m~/Documents/pvenv/lib/python3.10/site-packages/sklearn/preprocessing/_label.py:797\u001b[0m, in \u001b[0;36mMultiLabelBinarizer.fit_transform\u001b[0;34m(self, y)\u001b[0m\n\u001b[1;32m    795\u001b[0m class_mapping \u001b[38;5;241m=\u001b[39m defaultdict(\u001b[38;5;28mint\u001b[39m)\n\u001b[1;32m    796\u001b[0m class_mapping\u001b[38;5;241m.\u001b[39mdefault_factory \u001b[38;5;241m=\u001b[39m class_mapping\u001b[38;5;241m.\u001b[39m\u001b[38;5;21m__len__\u001b[39m\n\u001b[0;32m--> 797\u001b[0m yt \u001b[38;5;241m=\u001b[39m \u001b[38;5;28;43mself\u001b[39;49m\u001b[38;5;241;43m.\u001b[39;49m\u001b[43m_transform\u001b[49m\u001b[43m(\u001b[49m\u001b[43my\u001b[49m\u001b[43m,\u001b[49m\u001b[43m \u001b[49m\u001b[43mclass_mapping\u001b[49m\u001b[43m)\u001b[49m\n\u001b[1;32m    799\u001b[0m \u001b[38;5;66;03m# sort classes and reorder columns\u001b[39;00m\n\u001b[1;32m    800\u001b[0m tmp \u001b[38;5;241m=\u001b[39m \u001b[38;5;28msorted\u001b[39m(class_mapping, key\u001b[38;5;241m=\u001b[39mclass_mapping\u001b[38;5;241m.\u001b[39mget)\n",
      "File \u001b[0;32m~/Documents/pvenv/lib/python3.10/site-packages/sklearn/preprocessing/_label.py:870\u001b[0m, in \u001b[0;36mMultiLabelBinarizer._transform\u001b[0;34m(self, y, class_mapping)\u001b[0m\n\u001b[1;32m    868\u001b[0m \u001b[38;5;28;01mfor\u001b[39;00m labels \u001b[38;5;129;01min\u001b[39;00m y:\n\u001b[1;32m    869\u001b[0m     index \u001b[38;5;241m=\u001b[39m \u001b[38;5;28mset\u001b[39m()\n\u001b[0;32m--> 870\u001b[0m     \u001b[38;5;28;01mfor\u001b[39;00m label \u001b[38;5;129;01min\u001b[39;00m labels:\n\u001b[1;32m    871\u001b[0m         \u001b[38;5;28;01mtry\u001b[39;00m:\n\u001b[1;32m    872\u001b[0m             index\u001b[38;5;241m.\u001b[39madd(class_mapping[label])\n",
      "\u001b[0;31mTypeError\u001b[0m: 'float' object is not iterable"
     ]
    }
   ],
   "source": [
    "from sklearn.preprocessing import MultiLabelBinarizer\n",
    "mlb = MultiLabelBinarizer()\n",
    "mlb.fit_transform(data['labels'])"
   ]
  }
 ],
 "metadata": {
  "kernelspec": {
   "display_name": "Python 3 (ipykernel)",
   "language": "python",
   "name": "python3"
  },
  "language_info": {
   "codemirror_mode": {
    "name": "ipython",
    "version": 3
   },
   "file_extension": ".py",
   "mimetype": "text/x-python",
   "name": "python",
   "nbconvert_exporter": "python",
   "pygments_lexer": "ipython3",
   "version": "3.10.7"
  }
 },
 "nbformat": 4,
 "nbformat_minor": 5
}
